{
 "cells": [
  {
   "cell_type": "code",
   "execution_count": 9,
   "id": "c0b1e091",
   "metadata": {},
   "outputs": [
    {
     "name": "stdout",
     "output_type": "stream",
     "text": [
      "{'fname': 'Revathi', 'age': 21, 'place': 'chennai'}\n",
      "dict_keys(['fname', 'age', 'place'])\n",
      "dict_values(['Revathi', 21, 'chennai'])\n",
      "dict_items([('fname', 'Revathi'), ('age', 21), ('place', 'chennai')])\n"
     ]
    }
   ],
   "source": [
    "thisdict = {\n",
    "    \"fname\" : \"Revathi\",\n",
    "    \"age\" : 21,\n",
    "    \"place\" : \"chennai\"\n",
    "}\n",
    "print(thisdict)\n",
    "#print(thisdict[\"name\"])\n",
    "print(thisdict.keys())\n",
    "print(thisdict.values())\n",
    "print(thisdict.items())\n"
   ]
  },
  {
   "cell_type": "code",
   "execution_count": 10,
   "id": "2175b961",
   "metadata": {},
   "outputs": [
    {
     "name": "stdout",
     "output_type": "stream",
     "text": [
      "{'fname': 'Revathi', 'age': 21, 'place': 'chennai', 'address': 'madipakkam'}\n"
     ]
    }
   ],
   "source": [
    "thisdict[\"address\"] = \"madipakkam\"\n",
    "print(thisdict)"
   ]
  },
  {
   "cell_type": "code",
   "execution_count": 11,
   "id": "5e6bd06a",
   "metadata": {},
   "outputs": [
    {
     "name": "stdout",
     "output_type": "stream",
     "text": [
      "False\n"
     ]
    }
   ],
   "source": [
    "print(10 == 9)"
   ]
  },
  {
   "cell_type": "code",
   "execution_count": 1,
   "id": "185ca782",
   "metadata": {},
   "outputs": [
    {
     "name": "stdout",
     "output_type": "stream",
     "text": [
      "[1, [2, 3]]\n",
      "[1, [2, 3]]\n"
     ]
    }
   ],
   "source": [
    "\n",
    "\n",
    "    import copy\n",
    "    original = [1, [2, 3]]\n",
    "    shallow = copy.copy(original)\n",
    "    deep = copy.deepcopy(original)\n",
    "    print(shallow)\n",
    "    print(deep)\n"
   ]
  },
  {
   "cell_type": "code",
   "execution_count": 1,
   "id": "9e8d7c35",
   "metadata": {},
   "outputs": [
    {
     "name": "stdout",
     "output_type": "stream",
     "text": [
      "['apple', 'banana', 'orange', 'grape']\n"
     ]
    }
   ],
   "source": [
    "data = \"apple,banana,orange,grape\"\n",
    "fruits = data.split(\",\")\n",
    "print(fruits)"
   ]
  },
  {
   "cell_type": "code",
   "execution_count": 2,
   "id": "620fe810",
   "metadata": {},
   "outputs": [
    {
     "name": "stdout",
     "output_type": "stream",
     "text": [
      "['apple,banana,orange,grape']\n"
     ]
    }
   ],
   "source": [
    "data = \"apple,banana,orange,grape\"\n",
    "fruits = data.split()\n",
    "print(fruits)"
   ]
  },
  {
   "cell_type": "code",
   "execution_count": 3,
   "id": "c0770ba8",
   "metadata": {},
   "outputs": [
    {
     "name": "stdout",
     "output_type": "stream",
     "text": [
      "YOU WELCOME TECHNOLOGIES VRG\n"
     ]
    }
   ],
   "source": [
    "sentence = \"VRG TECHNOLOGIES WELCOME YOU\"\n",
    "reverse = \" \".join(sentence.split()[::-1])\n",
    "print(reverse)"
   ]
  },
  {
   "cell_type": "code",
   "execution_count": 6,
   "id": "08e72e6d",
   "metadata": {},
   "outputs": [
    {
     "name": "stdout",
     "output_type": "stream",
     "text": [
      "[1, 2, 3, 4, 5]\n"
     ]
    }
   ],
   "source": [
    "number=[1,2,3,4,5]\n",
    "number.sort()\n",
    "print(number)"
   ]
  },
  {
   "cell_type": "code",
   "execution_count": 8,
   "id": "3126ff70",
   "metadata": {},
   "outputs": [
    {
     "name": "stdout",
     "output_type": "stream",
     "text": [
      "[1, 4, 5, 8, 9]\n"
     ]
    }
   ],
   "source": [
    "number=[1,8,9,4,5]\n",
    "number = sorted(number)\n",
    "print(number)"
   ]
  },
  {
   "cell_type": "markdown",
   "id": "abc1206a",
   "metadata": {},
   "source": [
    "number=[1,2,3,4,5]\n",
    "number = sort(number,reverse=True)\n",
    "print(number)"
   ]
  },
  {
   "cell_type": "raw",
   "id": "426cf47e",
   "metadata": {},
   "source": [
    "number=[1,2,3,4,5]\n",
    "number = sorted(number,reverse=True)\n",
    "print(number)"
   ]
  },
  {
   "cell_type": "code",
   "execution_count": 10,
   "id": "dd98ef6a",
   "metadata": {},
   "outputs": [
    {
     "name": "stdout",
     "output_type": "stream",
     "text": [
      "[5, 4, 3, 2, 1]\n"
     ]
    }
   ],
   "source": [
    "number = [1, 2, 3, 4, 5]\n",
    "number = sorted(number, reverse=True)  # Returns a new sorted list\n",
    "print(number)"
   ]
  },
  {
   "cell_type": "code",
   "execution_count": 11,
   "id": "c2a4c324",
   "metadata": {},
   "outputs": [
    {
     "name": "stdout",
     "output_type": "stream",
     "text": [
      "[5, 4, 3, 2, 1]\n"
     ]
    }
   ],
   "source": [
    "number = [1, 2, 3, 4, 5]\n",
    "number.sort(reverse=True)  # Returns a new sorted list\n",
    "print(number)"
   ]
  },
  {
   "cell_type": "code",
   "execution_count": 12,
   "id": "e9b05bd2",
   "metadata": {},
   "outputs": [
    {
     "name": "stdout",
     "output_type": "stream",
     "text": [
      "YOU WELCOME TECHNOLOGIES VRG\n"
     ]
    }
   ],
   "source": [
    "sentence = \"VRG TECHNOLOGIES WELCOME YOU\"\n",
    "reverse = \" \".join(sentence.split()[::-1])\n",
    "print(reverse)"
   ]
  },
  {
   "cell_type": "code",
   "execution_count": 13,
   "id": "25e2a1bb",
   "metadata": {},
   "outputs": [
    {
     "name": "stdout",
     "output_type": "stream",
     "text": [
      "['YOU', 'WELCOME', 'TECHNOLOGIES', 'VRG']\n"
     ]
    }
   ],
   "source": [
    "sentence = \"VRG TECHNOLOGIES WELCOME YOU\"\n",
    "reverse = sentence.split()[::-1]\n",
    "print(reverse)"
   ]
  },
  {
   "cell_type": "code",
   "execution_count": 16,
   "id": "1d6f9791",
   "metadata": {},
   "outputs": [
    {
     "name": "stdout",
     "output_type": "stream",
     "text": [
      "720\n"
     ]
    }
   ],
   "source": [
    "from functools import reduce\n",
    "number=[2,3,4,5,6]\n",
    "result=reduce(lambda x,y:x*y,number)\n",
    "print(result)"
   ]
  },
  {
   "cell_type": "code",
   "execution_count": 17,
   "id": "7fd15a3b",
   "metadata": {},
   "outputs": [],
   "source": [
    "a = 10\n",
    "b = 10\n",
    "result = (a == b)  "
   ]
  },
  {
   "cell_type": "code",
   "execution_count": 18,
   "id": "0b53ff8a",
   "metadata": {},
   "outputs": [
    {
     "name": "stdout",
     "output_type": "stream",
     "text": [
      "Execution time: 2.0011 seconds\n",
      "Function complete!\n"
     ]
    }
   ],
   "source": [
    "import time\n",
    "\n",
    "def timer_decorator(func):\n",
    "    def wrapper(*args, **kwargs):\n",
    "        start_time = time.time()  # Start timer\n",
    "        result = func(*args, **kwargs)  # Call the original function\n",
    "        end_time = time.time()  # End timer\n",
    "        print(f\"Execution time: {end_time - start_time:.4f} seconds\")\n",
    "        return result\n",
    "    return wrapper\n",
    "\n",
    "@timer_decorator  # Applying the decorator\n",
    "def my_function(n):\n",
    "    time.sleep(n)  # Simulate a delay\n",
    "    return \"Function complete!\"\n",
    "\n",
    "# Calling the decorated function\n",
    "print(my_function(2))"
   ]
  },
  {
   "cell_type": "code",
   "execution_count": 1,
   "id": "0b516cd9",
   "metadata": {},
   "outputs": [
    {
     "name": "stdout",
     "output_type": "stream",
     "text": [
      "Enter the number : 15\n",
      "number is avaialble in list\n"
     ]
    }
   ],
   "source": [
    "list = [1,15,3,7,8]\n",
    "\n",
    "number = int(input(\"Enter the number : \"))\n",
    "\n",
    "if number in list:\n",
    "    print(\"number is avaialble in list\")"
   ]
  },
  {
   "cell_type": "code",
   "execution_count": 2,
   "id": "b317b3ee",
   "metadata": {},
   "outputs": [
    {
     "name": "stdout",
     "output_type": "stream",
     "text": [
      "Enter the number : 15\n",
      "number is avaialble in list\n",
      "[1, 15, 3, 7, 10]\n"
     ]
    }
   ],
   "source": [
    "list_new = [1,15,3,7,8]\n",
    "\n",
    "number = int(input(\"Enter the number : \"))\n",
    "\n",
    "if number in list_new:\n",
    "    print(\"number is avaialble in list\")\n",
    "list_new[4] = 10\n",
    "print(list_new)"
   ]
  },
  {
   "cell_type": "code",
   "execution_count": null,
   "id": "405211c0",
   "metadata": {},
   "outputs": [],
   "source": [
    "list_new = [1,15,3,7,8]\n",
    "\n",
    "new = []\n",
    "if x in list_new:\n",
    "    new.append"
   ]
  }
 ],
 "metadata": {
  "kernelspec": {
   "display_name": "Python 3 (ipykernel)",
   "language": "python",
   "name": "python3"
  },
  "language_info": {
   "codemirror_mode": {
    "name": "ipython",
    "version": 3
   },
   "file_extension": ".py",
   "mimetype": "text/x-python",
   "name": "python",
   "nbconvert_exporter": "python",
   "pygments_lexer": "ipython3",
   "version": "3.11.5"
  }
 },
 "nbformat": 4,
 "nbformat_minor": 5
}
